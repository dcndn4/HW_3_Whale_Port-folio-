{
 "cells": [
  {
   "cell_type": "code",
   "execution_count": 1,
   "id": "dd897e60-0e70-4033-8ad2-95be051e6eb2",
   "metadata": {},
   "outputs": [
    {
     "name": "stdin",
     "output_type": "stream",
     "text": [
      "Enter the String:  never odd or even\n"
     ]
    },
    {
     "name": "stdout",
     "output_type": "stream",
     "text": [
      "True\n"
     ]
    }
   ],
   "source": [
    "def check_if_palindrome(string):\n",
    "    #Accept Input from user, determine the length of the string for the following loop and set the determing factor of the palindrome to false\n",
    "    counter = 0\n",
    "    is_palindrome = False\n",
    "    length = len(string)\n",
    "    last_letter = length - 1\n",
    "    # ITerate through the string while the counter is less than or equal to the length of the string\n",
    "    while(counter <= len(string)):\n",
    "        # If the Current letter matches the letter on the opposite end, set is_palindrome to True and continue to loop\n",
    "        if string[counter] == string[last_letter]:\n",
    "            is_palindrome = True\n",
    "            counter += 1\n",
    "            last_letter = last_letter - 1\n",
    "        else:\n",
    "            # If the current letter does not match, set is_palindrome to False and exit the loop\n",
    "            is_palindrome = False\n",
    "        break\n",
    "    # If the outcome of the while loop is True, output True, else Output False\n",
    "    if(is_palindrome):\n",
    "        print('True')\n",
    "    else:\n",
    "        print('False')\n",
    "\n",
    "user_input = str(input('Enter the String: '))\n",
    "check_if_palindrome(user_input) \n"
   ]
  },
  {
   "cell_type": "code",
   "execution_count": null,
   "id": "24d4eb4b-ce3d-45dc-b3f4-530ff14dfc73",
   "metadata": {},
   "outputs": [],
   "source": []
  }
 ],
 "metadata": {
  "kernelspec": {
   "display_name": "Python 3 (ipykernel)",
   "language": "python",
   "name": "python3"
  },
  "language_info": {
   "codemirror_mode": {
    "name": "ipython",
    "version": 3
   },
   "file_extension": ".py",
   "mimetype": "text/x-python",
   "name": "python",
   "nbconvert_exporter": "python",
   "pygments_lexer": "ipython3",
   "version": "3.7.10"
  }
 },
 "nbformat": 4,
 "nbformat_minor": 5
}
